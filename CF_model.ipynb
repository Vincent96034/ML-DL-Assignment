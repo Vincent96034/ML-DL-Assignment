{
  "cells": [
    {
      "cell_type": "code",
      "execution_count": 1,
      "metadata": {},
      "outputs": [],
      "source": [
        "# Authors:\n",
        "# Freese, Julius <jufr23ac@student.cbs.dk>\n",
        "# Haunberger, Vincent <viha23al@student.cbs.dk>\n",
        "# Schröder, Fynn <fysc23ab@student.cbs.dk>"
      ]
    },
    {
      "cell_type": "code",
      "execution_count": 2,
      "metadata": {},
      "outputs": [
        {
          "data": {
            "text/plain": [
              "'This notebook contains code for building a collaborative filtering recommendation\\nsystem. Parts of the code are implemented in the `cf_recommender.py` file. The model is\\nevaluated using common evaluation metrics on our common test set.\\n'"
            ]
          },
          "execution_count": 2,
          "metadata": {},
          "output_type": "execute_result"
        }
      ],
      "source": [
        "\"\"\"This notebook contains code for building a collaborative filtering recommendation\n",
        "system. Parts of the code are implemented in the `cf_recommender.py` file. The model is\n",
        "evaluated using common evaluation metrics on our common test set.\n",
        "\"\"\""
      ]
    },
    {
      "cell_type": "code",
      "execution_count": 13,
      "metadata": {
        "id": "my9urufmWryC"
      },
      "outputs": [],
      "source": [
        "import pandas as pd\n",
        "import numpy as np\n",
        "import matplotlib.pyplot as plt\n",
        "\n",
        "from common.data_loaders import (\n",
        "    load_test_resp_eval_frame,\n",
        ")\n",
        "from common.cf_recommender import (\n",
        "    create_user_item_matrix,\n",
        "    matrix_factorization,\n",
        "    compute_mse,\n",
        "    recommend_items\n",
        ")\n",
        "from common.model_evaluation import (\n",
        "    calculate_global_metrics,\n",
        "    evaluate_recommendation\n",
        ")"
      ]
    },
    {
      "cell_type": "code",
      "execution_count": 4,
      "metadata": {},
      "outputs": [],
      "source": [
        "interactions = pd.read_csv('data/processed/interactions.csv').drop('Unnamed: 0', axis=1, errors='ignore')\n",
        "users = pd.read_csv('data/processed/users.csv').drop('Unnamed: 0', axis=1, errors='ignore')\n",
        "items = pd.read_csv('data/processed/items.csv').drop('Unnamed: 0', axis=1, errors='ignore')"
      ]
    },
    {
      "cell_type": "code",
      "execution_count": 5,
      "metadata": {},
      "outputs": [
        {
          "name": "stdout",
          "output_type": "stream",
          "text": [
            "(753299, 5)\n"
          ]
        },
        {
          "data": {
            "text/html": [
              "<div>\n",
              "<style scoped>\n",
              "    .dataframe tbody tr th:only-of-type {\n",
              "        vertical-align: middle;\n",
              "    }\n",
              "\n",
              "    .dataframe tbody tr th {\n",
              "        vertical-align: top;\n",
              "    }\n",
              "\n",
              "    .dataframe thead th {\n",
              "        text-align: right;\n",
              "    }\n",
              "</style>\n",
              "<table border=\"1\" class=\"dataframe\">\n",
              "  <thead>\n",
              "    <tr style=\"text-align: right;\">\n",
              "      <th></th>\n",
              "      <th>eid</th>\n",
              "      <th>uid</th>\n",
              "      <th>cid</th>\n",
              "      <th>engagement_time</th>\n",
              "      <th>click</th>\n",
              "    </tr>\n",
              "  </thead>\n",
              "  <tbody>\n",
              "    <tr>\n",
              "      <th>0</th>\n",
              "      <td>5_6321_2024-01-30</td>\n",
              "      <td>5</td>\n",
              "      <td>6321</td>\n",
              "      <td>0.762305</td>\n",
              "      <td>1</td>\n",
              "    </tr>\n",
              "    <tr>\n",
              "      <th>1</th>\n",
              "      <td>5_6321_2024-02-05</td>\n",
              "      <td>5</td>\n",
              "      <td>6321</td>\n",
              "      <td>0.559014</td>\n",
              "      <td>1</td>\n",
              "    </tr>\n",
              "    <tr>\n",
              "      <th>2</th>\n",
              "      <td>8_585_2024-03-08</td>\n",
              "      <td>8</td>\n",
              "      <td>585</td>\n",
              "      <td>0.755245</td>\n",
              "      <td>1</td>\n",
              "    </tr>\n",
              "  </tbody>\n",
              "</table>\n",
              "</div>"
            ],
            "text/plain": [
              "                 eid  uid   cid  engagement_time  click\n",
              "0  5_6321_2024-01-30    5  6321         0.762305      1\n",
              "1  5_6321_2024-02-05    5  6321         0.559014      1\n",
              "2   8_585_2024-03-08    8   585         0.755245      1"
            ]
          },
          "execution_count": 5,
          "metadata": {},
          "output_type": "execute_result"
        }
      ],
      "source": [
        "eid_lookup = interactions.copy()\n",
        "eid_lookup = eid_lookup[['eid', 'uid', 'cid', 'engagement_time', 'click']]\n",
        "print(eid_lookup.shape)\n",
        "eid_lookup.head(3)"
      ]
    },
    {
      "cell_type": "code",
      "execution_count": 6,
      "metadata": {},
      "outputs": [
        {
          "name": "stdout",
          "output_type": "stream",
          "text": [
            "Final training set size:  5100\n"
          ]
        }
      ],
      "source": [
        "# Set Subset of eid_lookup for local testing\n",
        "\n",
        "n_train = 5_100\n",
        "print(\"Final training set size: \", n_train)\n",
        "\n",
        "eid_lookup_train = eid_lookup.sample(n=n_train, random_state=42)\n",
        "\n",
        "# Shuffle the data\n",
        "eid_lookup_train = eid_lookup_train.sample(frac=1)"
      ]
    },
    {
      "cell_type": "code",
      "execution_count": 7,
      "metadata": {},
      "outputs": [
        {
          "name": "stdout",
          "output_type": "stream",
          "text": [
            "(4954, 1095)\n"
          ]
        }
      ],
      "source": [
        "# Get full list of users and items to ensure structure consistency\n",
        "unique_users = eid_lookup_train['uid'].unique()\n",
        "unique_items = eid_lookup_train['cid'].unique()\n",
        "\n",
        "ui_matrix_train = create_user_item_matrix(eid_lookup_train, unique_users, unique_items)\n",
        "print(ui_matrix_train.shape)"
      ]
    },
    {
      "cell_type": "markdown",
      "metadata": {},
      "source": [
        "### Matrix Factorization"
      ]
    },
    {
      "cell_type": "code",
      "execution_count": 8,
      "metadata": {},
      "outputs": [
        {
          "name": "stdout",
          "output_type": "stream",
          "text": [
            "Step 0: Training loss = 0.5647879543443799\n",
            "Step 50: Training loss = 0.2554867096290182\n",
            "Step 100: Training loss = 0.18514520465934745\n",
            "Step 150: Training loss = 0.14631599929367048\n",
            "Step 200: Training loss = 0.12054423613266477\n",
            "Step 250: Training loss = 0.10198921601047037\n",
            "Step 300: Training loss = 0.08798200007994834\n",
            "Step 350: Training loss = 0.07706140533335408\n",
            "Step 400: Training loss = 0.06833955808917298\n",
            "Step 450: Training loss = 0.061239692231226\n",
            "Step 499: Training loss = 0.05547639397028438\n"
          ]
        },
        {
          "data": {
            "image/png": "[encoded data removed]",
            "text/plain": [
              "<Figure size 1000x500 with 1 Axes>"
            ]
          },
          "metadata": {},
          "output_type": "display_data"
        }
      ],
      "source": [
        "# Initialize variables\n",
        "U_n = len(ui_matrix_train)\n",
        "I_n = len(ui_matrix_train[0])\n",
        "d = 5\n",
        "\n",
        "U = np.random.rand(U_n, d)\n",
        "V = np.random.rand(I_n, d)\n",
        "\n",
        "# Run matrix factorization\n",
        "nU, nV, train_losses = matrix_factorization(ui_matrix_train, U, V, d, steps=500, log_steps=50)\n",
        "\n",
        "# Plotting the learning curve\n",
        "plt.figure(figsize=(10, 5))\n",
        "plt.plot(train_losses, label='Training Loss')\n",
        "plt.title('Learning Curve')\n",
        "plt.xlabel('Iterations')\n",
        "plt.ylabel('Loss')\n",
        "plt.legend()\n",
        "plt.grid(True)\n",
        "plt.show()\n",
        "\n",
        "# took 2min 45 seconds"
      ]
    },
    {
      "cell_type": "code",
      "execution_count": 9,
      "metadata": {},
      "outputs": [
        {
          "data": {
            "text/plain": [
              "(4954, 1095)"
            ]
          },
          "execution_count": 9,
          "metadata": {},
          "output_type": "execute_result"
        }
      ],
      "source": [
        "# estimated R matrix\n",
        "nR = np.dot(nU, nV.T)\n",
        "nR.shape"
      ]
    },
    {
      "cell_type": "code",
      "execution_count": 10,
      "metadata": {},
      "outputs": [],
      "source": [
        "random_matrix = np.random.uniform(0, 1, (U_n, I_n))"
      ]
    },
    {
      "cell_type": "code",
      "execution_count": 11,
      "metadata": {},
      "outputs": [
        {
          "name": "stdout",
          "output_type": "stream",
          "text": [
            "Comparison of MSE:\n",
            " - Random Matrix:        0.12\n",
            " - Matrix Factorization: 0.06\n"
          ]
        }
      ],
      "source": [
        "# Compute MSE for the random matrix on the test set\n",
        "mse_random_matrix = compute_mse(ui_matrix_train, random_matrix)\n",
        "\n",
        "# Assuming nP is the reconstructed matrix from your matrix factorization\n",
        "mse_reconstructed_matrix = compute_mse(ui_matrix_train, nR)\n",
        "\n",
        "print(\"Comparison of MSE:\")\n",
        "print(f\" - Random Matrix:        {mse_random_matrix:.2f}\")\n",
        "print(f\" - Matrix Factorization: {mse_reconstructed_matrix:.2f}\")"
      ]
    },
    {
      "cell_type": "code",
      "execution_count": 27,
      "metadata": {},
      "outputs": [],
      "source": [
        "from sklearn.metrics.pairwise import cosine_similarity\n",
        "\n",
        "def recommend_items(user_id, user_ids, user_matrix, item_matrix, metric='cosine', top_n=10):\n",
        "    \"\"\"\n",
        "    Generate item recommendations for a given user based on a similarity metric.\n",
        "\n",
        "    Args:\n",
        "    - user_id (int/str): Actual user ID as per your dataset\n",
        "    - user_ids (np.array): Array of user IDs corresponding to the indices in the user_matrix\n",
        "    - user_matrix (np.array): Matrix of user feature vectors (nP from matrix factorization)\n",
        "    - item_matrix (np.array): Matrix of item feature vectors (nQ from matrix factorization)\n",
        "    - metric (str): Similarity metric ('cosine' or 'dot'). Default is 'cosine'.\n",
        "\n",
        "    Returns:\n",
        "    - recommendations (np.array): Sorted array of item indices based on similarity scores\n",
        "    \"\"\"\n",
        "    # Find the matrix index for the given user_id\n",
        "    try:\n",
        "        user_index = np.where(user_ids == user_id)[0][0]\n",
        "    except IndexError:\n",
        "        # user not found in the user_ids array; use random recommendation\n",
        "        item_indices = np.random.choice(len(item_matrix), top_n, replace=False)\n",
        "        item_scores = np.zeros(top_n)\n",
        "        return item_indices, item_scores\n",
        "\n",
        "    # Fetch the user feature vector\n",
        "    user_vector = user_matrix[user_index, :]\n",
        "\n",
        "    # Compute similarity scores\n",
        "    if metric == 'cosine':\n",
        "        scores = cosine_similarity(user_vector.reshape(1, -1), item_matrix)[0]\n",
        "    elif metric == 'dot':\n",
        "        scores = np.dot(user_vector, item_matrix.T)\n",
        "    else:\n",
        "        raise ValueError(\"Unsupported similarity metric. Choose 'cosine' or 'dot'.\")\n",
        "\n",
        "    # Sort item indices based on scores in descending order\n",
        "    recommended_item_indices = np.argsort(-scores)[:top_n]\n",
        "\n",
        "    return recommended_item_indices, scores[recommended_item_indices]"
      ]
    },
    {
      "cell_type": "code",
      "execution_count": 35,
      "metadata": {},
      "outputs": [
        {
          "data": {
            "text/plain": [
              "(array([950, 540, 341, 583, 889, 947, 641, 590, 343, 342]),\n",
              " array([0.99457558, 0.99245274, 0.99214704, 0.98948203, 0.98947367,\n",
              "        0.98941555, 0.9879714 , 0.98633789, 0.98532588, 0.98450364]))"
            ]
          },
          "execution_count": 35,
          "metadata": {},
          "output_type": "execute_result"
        }
      ],
      "source": [
        "recommended_items, scores = recommend_items(509577, unique_users, U, V, top_n=10) # 509577\n",
        "recommended_items, scores"
      ]
    },
    {
      "cell_type": "markdown",
      "metadata": {},
      "source": [
        "### Evaluation"
      ]
    },
    {
      "cell_type": "code",
      "execution_count": 36,
      "metadata": {},
      "outputs": [
        {
          "name": "stdout",
          "output_type": "stream",
          "text": [
            "loading responses data ...\n",
            "(50000, 6)\n"
          ]
        },
        {
          "data": {
            "text/html": [
              "<div>\n",
              "<style scoped>\n",
              "    .dataframe tbody tr th:only-of-type {\n",
              "        vertical-align: middle;\n",
              "    }\n",
              "\n",
              "    .dataframe tbody tr th {\n",
              "        vertical-align: top;\n",
              "    }\n",
              "\n",
              "    .dataframe thead th {\n",
              "        text-align: right;\n",
              "    }\n",
              "</style>\n",
              "<table border=\"1\" class=\"dataframe\">\n",
              "  <thead>\n",
              "    <tr style=\"text-align: right;\">\n",
              "      <th></th>\n",
              "      <th>uid</th>\n",
              "      <th>cid</th>\n",
              "      <th>Date</th>\n",
              "      <th>eid</th>\n",
              "      <th>prev_resp</th>\n",
              "      <th>future_resp</th>\n",
              "    </tr>\n",
              "  </thead>\n",
              "  <tbody>\n",
              "    <tr>\n",
              "      <th>0</th>\n",
              "      <td>10</td>\n",
              "      <td>4592</td>\n",
              "      <td>2024-03-23</td>\n",
              "      <td>10_4592_2024-03-23</td>\n",
              "      <td>[]</td>\n",
              "      <td>[4592, 2069]</td>\n",
              "    </tr>\n",
              "    <tr>\n",
              "      <th>1</th>\n",
              "      <td>10</td>\n",
              "      <td>2069</td>\n",
              "      <td>2024-03-23</td>\n",
              "      <td>10_2069_2024-03-23</td>\n",
              "      <td>[4592]</td>\n",
              "      <td>[2069]</td>\n",
              "    </tr>\n",
              "    <tr>\n",
              "      <th>2</th>\n",
              "      <td>19</td>\n",
              "      <td>6351</td>\n",
              "      <td>2024-03-06</td>\n",
              "      <td>19_6351_2024-03-06</td>\n",
              "      <td>[]</td>\n",
              "      <td>[6351]</td>\n",
              "    </tr>\n",
              "  </tbody>\n",
              "</table>\n",
              "</div>"
            ],
            "text/plain": [
              "   uid   cid        Date                 eid prev_resp   future_resp\n",
              "0   10  4592  2024-03-23  10_4592_2024-03-23        []  [4592, 2069]\n",
              "1   10  2069  2024-03-23  10_2069_2024-03-23    [4592]        [2069]\n",
              "2   19  6351  2024-03-06  19_6351_2024-03-06        []        [6351]"
            ]
          },
          "execution_count": 36,
          "metadata": {},
          "output_type": "execute_result"
        }
      ],
      "source": [
        "test_frame = load_test_resp_eval_frame()\n",
        "print(test_frame.shape)\n",
        "test_frame.head(3)"
      ]
    },
    {
      "cell_type": "code",
      "execution_count": 47,
      "metadata": {},
      "outputs": [],
      "source": [
        "TOP_K = 200\n",
        "\n",
        "# iterate over all rows\n",
        "cf_recommendations = {}\n",
        "for idx, row in test_frame.iterrows():\n",
        "    recommended_items, scores = recommend_items(row.uid, unique_users, U, V, top_n=TOP_K)\n",
        "    cf_recommendations[row.eid] = {\n",
        "        'recommended_items': recommended_items,\n",
        "        'scores': scores\n",
        "    }\n",
        "\n",
        "cf_recs = pd.DataFrame(cf_recommendations).T\n",
        "cf_recs.columns = [\"recommended_ids\", \"scores\"]\n",
        "cf_recs[\"eid\"] = cf_recs.index.values\n",
        "cf_recs[\"recommended_ids\"] = cf_recs[\"recommended_ids\"].apply(lambda x: x.tolist())\n",
        "cf_recs[\"scores\"] = cf_recs[\"scores\"].apply(lambda x: x.tolist())"
      ]
    },
    {
      "cell_type": "code",
      "execution_count": 49,
      "metadata": {},
      "outputs": [
        {
          "name": "stdout",
          "output_type": "stream",
          "text": [
            "Global metrics for CFRecommender:\n",
            "     Precision@k  Recall@k       MRR       MAP  Hit Rate  Coverage\n",
            "10      0.000668  0.002381  0.001689  0.000232   0.00668       1.0\n",
            "20      0.000578  0.004120  0.001383  0.000270   0.00744       1.0\n",
            "50      0.001031  0.018370  0.000819  0.000332   0.01206       1.0\n",
            "100     0.000625  0.022290  0.000850  0.000384   0.01662       1.0\n",
            "200     0.000363  0.025883  0.000905  0.000433   0.02532       1.0\n",
            "\n",
            "Global metrics for CFRecommender [filtered]:\n",
            "     Precision@k  Recall@k       MRR       MAP  Hit Rate  Coverage\n",
            "10      0.004015  0.003256  0.009978  0.000154  0.040153       1.0\n",
            "20      0.003442  0.005582  0.007602  0.000174  0.040836       1.0\n",
            "50      0.006512  0.026405  0.003316  0.000219  0.057635       1.0\n",
            "100     0.003734  0.030282  0.003160  0.000261  0.061868       1.0\n",
            "200     0.001956  0.031733  0.003196  0.000299  0.071155       1.0\n"
          ]
        }
      ],
      "source": [
        "cf_evaluation = evaluate_recommendation(cf_recs, test_frame)\n",
        "\n",
        "# Calculate global metrics for multiple k values\n",
        "global_metrics_df = calculate_global_metrics(cf_evaluation)\n",
        "print(\"Global metrics for CFRecommender:\")\n",
        "print(global_metrics_df)\n",
        "\n",
        "# Calculate global metrics for multiple k values\n",
        "global_metrics_df = calculate_global_metrics(cf_evaluation[cf_evaluation['prev_resp'].apply(len) > 0])\n",
        "print(\"\\nGlobal metrics for CFRecommender [filtered]:\")\n",
        "print(global_metrics_df)"
      ]
    }
  ],
  "metadata": {
    "colab": {
      "provenance": []
    },
    "kernelspec": {
      "display_name": "Python 3",
      "name": "python3"
    },
    "language_info": {
      "codemirror_mode": {
        "name": "ipython",
        "version": 3
      },
      "file_extension": ".py",
      "mimetype": "text/x-python",
      "name": "python",
      "nbconvert_exporter": "python",
      "pygments_lexer": "ipython3",
      "version": "3.11.7"
    }
  },
  "nbformat": 4,
  "nbformat_minor": 0
}
